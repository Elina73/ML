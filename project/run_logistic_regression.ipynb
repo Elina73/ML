{
 "cells": [
  {
   "cell_type": "code",
   "execution_count": null,
   "id": "2a8d1cbb-ad9c-45d4-b77f-39f2115e9db2",
   "metadata": {},
   "outputs": [],
   "source": [
    "import sys\n",
    "\n",
    "path = \"/ml/low_rank\"\n",
    "sys.path.append(path)\n",
    "\n",
    "\n",
    "from reduced_rank_logistic import logistic_generate_experiment_data\n",
    "\n",
    "p = logistic_generate_experiment_data(no_generate=True)"
   ]
  },
  {
   "cell_type": "code",
   "execution_count": null,
   "id": "ccd101fc-b360-4f3e-a8d8-857bb5625ff3",
   "metadata": {},
   "outputs": [],
   "source": [
    "from reduced_rank_logistic import logistic_solver_params, wrap_experiments\n",
    "\n",
    "p_solvers = logistic_solver_params()\n",
    "print(len(p_solvers))\n",
    "p_solvers[1]\n",
    "\n",
    "# wrap_experiments([p[2]], [p_solvers[7]])\n",
    "wrap_experiments(p, p_solvers)"
   ]
  }
 ],
 "metadata": {
  "kernelspec": {
   "display_name": "Python 3",
   "language": "python",
   "name": "python3"
  },
  "language_info": {
   "codemirror_mode": {
    "name": "ipython",
    "version": 3
   },
   "file_extension": ".py",
   "mimetype": "text/x-python",
   "name": "python",
   "nbconvert_exporter": "python",
   "pygments_lexer": "ipython3",
   "version": "3.8.13"
  }
 },
 "nbformat": 4,
 "nbformat_minor": 5
}
