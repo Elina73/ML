{
 "cells": [
  {
   "cell_type": "code",
   "execution_count": null,
   "id": "fe81ab87-94da-46ef-88c5-d5b6a9056280",
   "metadata": {},
   "outputs": [],
   "source": [
    "import sys\n",
    "\n",
    "# be careful for the versions.\n",
    "path = \"/low_rank\"\n",
    "sys.path.append(path)\n",
    "\n",
    "from reduced_rank_logistic import (\n",
    "    build_opt_p,\n",
    "    filter_none,\n",
    "    logistic_generate_experiment_data,\n",
    "    logistic_solver_params,\n",
    ")\n",
    "\n",
    "p = logistic_generate_experiment_data(no_generate=True)"
   ]
  },
  {
   "cell_type": "code",
   "execution_count": null,
   "id": "5cf1d6dd-bf36-4be8-a1a7-780f5572de2d",
   "metadata": {},
   "outputs": [],
   "source": [
    "p_solvers = logistic_solver_params()\n",
    "print(len(p_solvers))\n",
    "print(len(p) * len(p_solvers))"
   ]
  }
 ],
 "metadata": {
  "kernelspec": {
   "display_name": "Python 3",
   "language": "python",
   "name": "python3"
  },
  "language_info": {
   "codemirror_mode": {
    "name": "ipython",
    "version": 3
   },
   "file_extension": ".py",
   "mimetype": "text/x-python",
   "name": "python",
   "nbconvert_exporter": "python",
   "pygments_lexer": "ipython3",
   "version": "3.8.13"
  }
 },
 "nbformat": 4,
 "nbformat_minor": 5
}
