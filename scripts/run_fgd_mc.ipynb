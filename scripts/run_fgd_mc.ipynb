{
 "cells": [
  {
   "cell_type": "code",
   "execution_count": null,
   "metadata": {},
   "outputs": [],
   "source": [
    "import sys\n",
    "\n",
    "path = '/insert/libarary_path/here'\n",
    "sys.path.append(path)\n",
    "\n",
    "from mc import generate_experiment_data\n",
    "p = generate_experiment_data(no_generate=False)\n",
    "from mc import generate_experiment_data, solver_params\n",
    "\n",
    "p_solvers = solver_params()\n",
    "print(len(p_solvers))\n",
    "from mc import wrap_experiments\n",
    "wrap_experiments(p, p_solvers)"
   ]
  }
 ],
 "metadata": {
  "kernelspec": {
   "display_name": "Python 3",
   "language": "python",
   "name": "python3"
  },
  "language_info": {
   "codemirror_mode": {
    "name": "ipython",
    "version": 3
   },
   "file_extension": ".py",
   "mimetype": "text/x-python",
   "name": "python",
   "nbconvert_exporter": "python",
   "pygments_lexer": "ipython3",
   "version": "3.8.8"
  }
 },
 "nbformat": 4,
 "nbformat_minor": 4
}
